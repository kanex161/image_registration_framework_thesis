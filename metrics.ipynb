{
 "cells": [
  {
   "cell_type": "code",
   "execution_count": 1,
   "id": "f91c43be",
   "metadata": {
    "scrolled": true
   },
   "outputs": [],
   "source": [
    "# Reference: https://gist.github.com/gergf/acd8e3fd23347cb9e6dc572f00c63d79\n",
    "import nibabel as nib\n",
    "import numpy as np\n",
    "import os\n",
    "import matplotlib.pyplot as plt"
   ]
  },
  {
   "cell_type": "code",
   "execution_count": 2,
   "id": "3b385162",
   "metadata": {},
   "outputs": [],
   "source": [
    "# Define the root directory containing the warped annotated images\n",
    "root_dir = \"../data/outputs/baseline_registration\"\n",
    "\n",
    "# Load the annotated atlas\n",
    "atlas_path = \"../data/outputs/atlas/atlas.nii.gz\"\n",
    "annotated_atlas = nib.load(atlas_path)\n"
   ]
  },
  {
   "cell_type": "code",
   "execution_count": 3,
   "id": "73b91d57",
   "metadata": {},
   "outputs": [],
   "source": [
    "def calculate_dice_score(image_path, annotated_atlas):\n",
    "    # Load the image data\n",
    "    image = nib.load(image_path).get_fdata()\n",
    "\n",
    "    # Convert image and atlas data to binary masks\n",
    "    image_mask = np.zeros_like(image)\n",
    "    image_mask[image > 0] = 1\n",
    "\n",
    "    atlas_mask = np.zeros_like(annotated_atlas.get_fdata())\n",
    "    atlas_mask[annotated_atlas.get_fdata() > 0] = 1\n",
    "\n",
    "    # Calculate the DICE score\n",
    "    intersection = np.logical_and(image_mask, atlas_mask)\n",
    "    dice_score = (2 * intersection.sum()) / (image_mask.sum() + atlas_mask.sum())\n",
    "    \n",
    "    precision = intersection.sum() / image_mask.sum()\n",
    "    recall = intersection.sum() / atlas_mask.sum()\n",
    "    \n",
    "    return dice_score, atlas_mask.mean(),precision, recall"
   ]
  },
  {
   "cell_type": "code",
   "execution_count": 4,
   "id": "a360bb39",
   "metadata": {
    "scrolled": true
   },
   "outputs": [
    {
     "name": "stdout",
     "output_type": "stream",
     "text": [
      "  Brain Image  DICE Score  Precision    Recall\n",
      "0    brain_01    0.868814   0.863622  0.874068\n",
      "1    brain_02    0.874407   0.905376  0.845487\n",
      "2    brain_04    0.884905   0.838756  0.936429\n",
      "3    brain_05    0.880411   0.857779  0.904270\n",
      "4    brain_06    0.843910   0.886569  0.805168\n",
      "5    brain_07    0.904778   0.917553  0.892353\n",
      "6    brain_08    0.851167   0.810760  0.895813\n",
      "7    brain_09    0.858512   0.927420  0.799136\n"
     ]
    }
   ],
   "source": [
    "import pandas as pd\n",
    "\n",
    "# Create an empty list to store the results\n",
    "results = []\n",
    "\n",
    "# Calculate the DICE score for all the brains\n",
    "for i in range(10):\n",
    "    subdir = f\"test_output_{i}\"\n",
    "    subdir_path = os.path.join(root_dir, subdir)\n",
    "\n",
    "    for file in os.listdir(subdir_path):\n",
    "        # Check if the file is a warped annotated image file\n",
    "        if file.endswith(\"_warped_annotation_imageSpace.nii\"):\n",
    "            # Construct the full file path\n",
    "            warped_annotation_path = os.path.join(subdir_path, file)\n",
    "\n",
    "            # Calculate the DICE score\n",
    "            dice_score, _, precision, recall = calculate_dice_score(warped_annotation_path, annotated_atlas)\n",
    "\n",
    "            # Extract the relevant part of the file name\n",
    "            warped_annotation_name = file.split(\"_warped_annotation_imageSpace.nii\")[0]\n",
    "\n",
    "            # Append the results to the list\n",
    "            results.append([warped_annotation_name, dice_score, precision, recall])\n",
    "\n",
    "# Create a DataFrame from the results list\n",
    "df = pd.DataFrame(results, columns=[\"Brain Image\", \"DICE Score\", \"Precision\", \"Recall\"])\n",
    "\n",
    "# Print the DataFrame\n",
    "print(df)\n"
   ]
  },
  {
   "cell_type": "code",
   "execution_count": 9,
   "id": "abdbe5cf",
   "metadata": {
    "scrolled": true
   },
   "outputs": [
    {
     "name": "stderr",
     "output_type": "stream",
     "text": [
      "/home/umii/kanex161/.conda/envs/lab2im_registration/lib/python3.9/site-packages/seaborn/categorical.py:166: FutureWarning: Setting a gradient palette using color= is deprecated and will be removed in version 0.13. Set `palette='dark:red'` for same effect.\n",
      "  warnings.warn(msg, FutureWarning)\n"
     ]
    },
    {
     "data": {
      "image/png": "[encoded data removed]",
      "text/plain": [
       "<Figure size 800x600 with 1 Axes>"
      ]
     },
     "metadata": {},
     "output_type": "display_data"
    }
   ],
   "source": [
    "import seaborn as sns\n",
    "# Create a box plot with individual points\n",
    "plt.figure(figsize=(8, 6))\n",
    "sns.boxplot(data=df)\n",
    "sns.stripplot(data=df, color=\"red\", alpha=1)\n",
    "\n",
    "plt.title(\"Evaluation Metrics\")\n",
    "plt.xlabel(\"Metrics\")\n",
    "plt.ylabel(\"Value\")\n",
    "#plt.xticks(range(len(x_values)), x_values)  # Set x-axis tick labels\n",
    "plt.ylim(0, 1)\n",
    "plt.show()\n"
   ]
  },
  {
   "cell_type": "code",
   "execution_count": null,
   "id": "d1e4f6f0",
   "metadata": {},
   "outputs": [],
   "source": [
    "import pandas as pd\n",
    "\n",
    "# Calculate mean and standard deviation for DICE Score\n",
    "dice_mean = df[\"DICE Score\"].mean()\n",
    "dice_std = df[\"DICE Score\"].std()\n",
    "\n",
    "# Calculate mean and standard deviation for Precision\n",
    "precision_mean = df[\"Precision\"].mean()\n",
    "precision_std = df[\"Precision\"].std()\n",
    "\n",
    "# Calculate mean and standard deviation for Recall\n",
    "recall_mean = df[\"Recall\"].mean()\n",
    "recall_std = df[\"Recall\"].std()\n",
    "\n",
    "# Print mean and standard deviation for each metric\n",
    "print(\"DICE Score:\")\n",
    "print(f\"Mean: {dice_mean}\")\n",
    "print(f\"Standard Deviation: {dice_std}\")\n",
    "\n",
    "print(\"\\nPrecision:\")\n",
    "print(f\"Mean: {precision_mean}\")\n",
    "print(f\"Standard Deviation: {precision_std}\")\n",
    "\n",
    "print(\"\\nRecall:\")\n",
    "print(f\"Mean: {recall_mean}\")\n",
    "print(f\"Standard Deviation: {recall_std}\")\n"
   ]
  },
  {
   "cell_type": "code",
   "execution_count": null,
   "id": "a823518f",
   "metadata": {},
   "outputs": [],
   "source": []
  }
 ],
 "metadata": {
  "kernelspec": {
   "display_name": "lab2im_registration",
   "language": "python",
   "name": "lab2im_registration"
  },
  "language_info": {
   "codemirror_mode": {
    "name": "ipython",
    "version": 3
   },
   "file_extension": ".py",
   "mimetype": "text/x-python",
   "name": "python",
   "nbconvert_exporter": "python",
   "pygments_lexer": "ipython3",
   "version": "3.9.16"
  }
 },
 "nbformat": 4,
 "nbformat_minor": 5
}
