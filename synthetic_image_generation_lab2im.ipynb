{
 "cells": [
  {
   "cell_type": "markdown",
   "id": "normal-russia",
   "metadata": {},
   "source": [
    "# Run lab2im\n",
    "Pre-requisites have been already set up"
   ]
  },
  {
   "cell_type": "markdown",
   "id": "b15d0da7",
   "metadata": {},
   "source": [
    "## Import Libraries"
   ]
  },
  {
   "cell_type": "code",
   "execution_count": 1,
   "id": "dominican-massachusetts",
   "metadata": {
    "scrolled": true
   },
   "outputs": [
    {
     "name": "stderr",
     "output_type": "stream",
     "text": [
      "Using TensorFlow backend.\n"
     ]
    }
   ],
   "source": [
    "import sys\n",
    "sys.path.append(\"../lab2im\")\n",
    "import os\n",
    "import lab2im\n",
    "from lab2im import utils\n",
    "from lab2im.image_generator import ImageGenerator\n",
    "import nibabel as nib\n",
    "import numpy as np"
   ]
  },
  {
   "cell_type": "markdown",
   "id": "inclusive-journey",
   "metadata": {},
   "source": [
    "# Mouse Atlas (ABA)"
   ]
  },
  {
   "cell_type": "code",
   "execution_count": 5,
   "id": "historical-policy",
   "metadata": {},
   "outputs": [],
   "source": [
    "import numpy as np\n",
    "from bg_atlasapi.bg_atlas import BrainGlobeAtlas\n",
    "\n",
    "# Takes a long time (~7 min)\n",
    "atlas = BrainGlobeAtlas(\"allen_mouse_25um\")\n",
    "\n",
    "# Downsample\n",
    "atlas = atlas.annotation[::1,::1,::1].astype(np.uint16)\n",
    "\n",
    "#print(atl.shape)\n",
    "#print(atl.size * atl.itemsize)\n",
    "\n",
    "img = nib.Nifti1Image(atlas, None)\n",
    "nib.save(img, \"../data/outputs/atlas/atlas.nii.gz\")"
   ]
  },
  {
   "cell_type": "code",
   "execution_count": 11,
   "id": "isolated-compilation",
   "metadata": {
    "scrolled": true
   },
   "outputs": [
    {
     "name": "stdout",
     "output_type": "stream",
     "text": [
      "annotation.tiff  metadata.json\treference.tiff\tstructures.json\r\n",
      "meshes\t\t README.txt\tstructures.csv\r\n"
     ]
    }
   ],
   "source": [
    "# !ls {atlas.root_dir} # The various files associated with the atlas "
   ]
  },
  {
   "cell_type": "markdown",
   "id": "5395bcff",
   "metadata": {},
   "source": [
    "## Create multiple synthetically deformed images using lab2im"
   ]
  },
  {
   "cell_type": "code",
   "execution_count": null,
   "id": "further-wisconsin",
   "metadata": {
    "scrolled": true
   },
   "outputs": [
    {
     "name": "stdout",
     "output_type": "stream",
     "text": [
      "Found ../data/outputs/lab2im\n"
     ]
    },
    {
     "data": {
      "application/vnd.jupyter.widget-view+json": {
       "model_id": "1ba2a62ca2fa415f858c63d4683b160a",
       "version_major": 2,
       "version_minor": 0
      },
      "text/plain": [
       "HBox(children=(FloatProgress(value=0.0, max=2.0), HTML(value='')))"
      ]
     },
     "metadata": {},
     "output_type": "display_data"
    },
    {
     "name": "stdout",
     "output_type": "stream",
     "text": [
      "Compiling list of unique labels\n",
      "processing 1/1\n",
      "Compiling list of unique labels\n",
      "processing 1/1\n"
     ]
    }
   ],
   "source": [
    "# path of the input label map\n",
    "path_label_map = \"../data/outputs/atlas/atlas.nii.gz\"\n",
    "\n",
    "# path where to save the generated image\n",
    "outdir = '../data/outputs/lab2im'\n",
    "\n",
    "if os.path.isdir(outdir):\n",
    "    print(\"Found {}\".format(outdir))\n",
    "else:\n",
    "    print(\"Creating {}\".format(outdir))   \n",
    "    os.makedirs(outdir)\n",
    "    os.makedirs(os.path.join(outdir,'brains'))\n",
    "    os.makedirs(os.path.join(outdir,'labels'))\n",
    "\n",
    "\n",
    "# generate an image from the label map.\n",
    "# Because the image is spatially deformed, we also output the corresponding deformed label map.\n",
    "\n",
    "from tqdm.notebook import tqdm\n",
    "\n",
    "for i in tqdm(range(10)):\n",
    "  brain_generator = lab2im.image_generator.ImageGenerator(path_label_map)\n",
    "  im, lab = brain_generator.generate_image()\n",
    "\n",
    "  # save output image and label map\n",
    "  utils.save_volume(im, brain_generator.aff, brain_generator.header, os.path.join(outdir, 'brains',f'brain_{i:02d}.nii.gz'))\n",
    "  utils.save_volume(lab, brain_generator.aff, brain_generator.header, os.path.join(outdir, 'labels',f'labels_{i:02d}.nii.gz'))\n"
   ]
  },
  {
   "cell_type": "code",
   "execution_count": null,
   "id": "ddceb7a0",
   "metadata": {},
   "outputs": [],
   "source": []
  }
 ],
 "metadata": {
  "kernelspec": {
   "display_name": "lab2im",
   "language": "python",
   "name": "lab2im"
  },
  "language_info": {
   "codemirror_mode": {
    "name": "ipython",
    "version": 3
   },
   "file_extension": ".py",
   "mimetype": "text/x-python",
   "name": "python",
   "nbconvert_exporter": "python",
   "pygments_lexer": "ipython3",
   "version": "3.7.16"
  }
 },
 "nbformat": 4,
 "nbformat_minor": 5
}
